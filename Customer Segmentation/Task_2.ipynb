# Import libraries
import pandas as pd
import matplotlib.pyplot as plt
import seaborn as sns
from sklearn.cluster import KMeans, DBSCAN
from sklearn.preprocessing import StandardScaler

# Load dataset
df = pd.read_csv("Mall_Customers.csv")

# Drop 'CustomerID' and encode 'Gender'
df_cleaned = df.drop("CustomerID", axis=1)
df_cleaned["Gender"] = df_cleaned["Gender"].map({"Male": 0, "Female": 1})

# Scale features
scaler = StandardScaler()
scaled = scaler.fit_transform(df_cleaned)

# Elbow method to find optimal k
inertia = []
for k in range(1, 11):
    kmeans = KMeans(n_clusters=k, random_state=42)
    kmeans.fit(scaled)
    inertia.append(kmeans.inertia_)

# Plot elbow curve
plt.figure(figsize=(8, 5))
plt.plot(range(1, 11), inertia, marker='o')
plt.title("Elbow Method for Optimal K")
plt.xlabel("Number of Clusters")
plt.ylabel("Inertia")
plt.grid(True)
plt.show()

# From elbow, assume k=5
kmeans = KMeans(n_clusters=5, random_state=42)
df['Cluster'] = kmeans.fit_predict(scaled)

# Visualize clusters (based on Income and Spending Score)
plt.figure(figsize=(8, 5))
sns.scatterplot(data=df, x='Annual Income (k$)', y='Spending Score (1-100)', hue='Cluster', palette='tab10')
plt.title("Customer Segments")
plt.grid(True)
plt.show()

# Bonus: Try DBSCAN
db = DBSCAN(eps=1.2, min_samples=5)
df['DBSCAN_Cluster'] = db.fit_predict(scaled)

# Visualize DBSCAN results
plt.figure(figsize=(8, 5))
sns.scatterplot(data=df, x='Annual Income (k$)', y='Spending Score (1-100)', hue='DBSCAN_Cluster', palette='tab10')
plt.title("DBSCAN Clustering")
plt.grid(True)
plt.show()

# Bonus: Average spending per cluster
avg_spend = df.groupby('Cluster')['Spending Score (1-100)'].mean()
print("Average Spending Score per KMeans Cluster:\n", avg_spend)
